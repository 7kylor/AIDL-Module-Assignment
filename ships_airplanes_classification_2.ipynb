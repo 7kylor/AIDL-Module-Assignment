{
  "cells": [
    {
      "cell_type": "markdown",
      "metadata": {
        "id": "view-in-github",
        "colab_type": "text"
      },
      "source": [
        "<a href=\"https://colab.research.google.com/github/7kylor/AIDL-Module-Assignment/blob/main/ships_airplanes_classification_2.ipynb\" target=\"_parent\"><img src=\"https://colab.research.google.com/assets/colab-badge.svg\" alt=\"Open In Colab\"/></a>"
      ]
    },
    {
      "cell_type": "code",
      "execution_count": null,
      "metadata": {
        "colab": {
          "base_uri": "https://localhost:8080/"
        },
        "id": "XwS3JKt-U1CE",
        "outputId": "2788a94b-ace7-4afc-f28b-55a2f50966cc"
      },
      "outputs": [
        {
          "output_type": "stream",
          "name": "stdout",
          "text": [
            "Mounted at /content/drive\n"
          ]
        }
      ],
      "source": [
        "#My dataset is available in googledrive; so I am accessing my drive from colab\n",
        "from google.colab import drive\n",
        "drive.mount('/content/drive', force_remount=True)\n",
        "#Once this is executed, you will see your drive appearing on the left hand side"
      ]
    },
    {
      "cell_type": "code",
      "execution_count": null,
      "metadata": {
        "id": "SMPHESYVVnzp"
      },
      "outputs": [],
      "source": [
        "# Define paths to the dataset\n",
        "train_dir = '/content/drive/MyDrive/AI/Train'  # Update with your actual path\n",
        "test_dir = '/content/drive/MyDrive/AI/Test'    # Update with your actual path"
      ]
    },
    {
      "cell_type": "code",
      "execution_count": null,
      "metadata": {
        "colab": {
          "base_uri": "https://localhost:8080/"
        },
        "id": "wwfZiLtU6Ruq",
        "outputId": "cf04e678-62b2-4646-abcd-8fdf48b64ce3"
      },
      "outputs": [
        {
          "output_type": "stream",
          "name": "stdout",
          "text": [
            "5040\n",
            "5010\n",
            "1020\n",
            "1000\n"
          ]
        }
      ],
      "source": [
        "import os\n",
        "print(len(os.listdir('/content/drive/MyDrive/AI/Train/airplane')))\n",
        "print(len(os.listdir('/content/drive/MyDrive/AI/Train/ship')))\n",
        "print(len(os.listdir('/content/drive/MyDrive/AI/Test/airplane')))\n",
        "print(len(os.listdir('/content/drive/MyDrive/AI/Test/ship')))"
      ]
    },
    {
      "cell_type": "code",
      "execution_count": null,
      "metadata": {
        "colab": {
          "base_uri": "https://localhost:8080/"
        },
        "id": "kf8li3JNUJR1",
        "outputId": "0c7da192-d45e-4ca7-a3ec-71955d6f8fdb"
      },
      "outputs": [
        {
          "output_type": "stream",
          "name": "stdout",
          "text": [
            "Found 8040 images belonging to 2 classes.\n",
            "Found 2010 images belonging to 2 classes.\n"
          ]
        }
      ],
      "source": [
        "import tensorflow as tf\n",
        "from tensorflow.keras.preprocessing.image import ImageDataGenerator\n",
        "\n",
        "# Create ImageDataGenerator for training set\n",
        "train_datagen = ImageDataGenerator(\n",
        "    rescale=1./255,\n",
        "    validation_split=0.2  # Split 20% of the images for validation\n",
        ")\n",
        "\n",
        "# Load and prepare training data\n",
        "train_data = train_datagen.flow_from_directory(\n",
        "    train_dir,\n",
        "    target_size=(256,256),\n",
        "    batch_size=32,\n",
        "    class_mode='binary',  # 'binary' for binary classification (cats vs. dogs)\n",
        "    subset='training'  # Specify 'training' for the training set\n",
        ")\n",
        "\n",
        "# Create ImageDataGenerator for validation set\n",
        "validation_datagen = ImageDataGenerator(\n",
        "    rescale=1./255,\n",
        "    validation_split=0.2  # Note: Using the same validation split as in the training set\n",
        ")\n",
        "\n",
        "# Load and prepare validation data\n",
        "validation_data = validation_datagen.flow_from_directory(\n",
        "    train_dir,\n",
        "    target_size=(256,256),\n",
        "    batch_size=32,\n",
        "    class_mode='binary',\n",
        "    subset='validation'  # Specify 'validation' for the validation set\n",
        ")"
      ]
    },
    {
      "cell_type": "code",
      "execution_count": null,
      "metadata": {
        "id": "wGp6oIfQWMFh"
      },
      "outputs": [],
      "source": [
        "from tensorflow import keras\n",
        "from keras import Sequential\n",
        "from keras.layers import Dense,Conv2D,MaxPooling2D,Flatten,BatchNormalization,UpSampling2D, Dropout"
      ]
    },
    {
      "cell_type": "code",
      "execution_count": null,
      "metadata": {
        "id": "6liLEEzLWNB5"
      },
      "outputs": [],
      "source": [
        "# create CNN model\n",
        "\n",
        "model = Sequential()\n",
        "\n",
        "model.add(Conv2D(32,kernel_size=(3,3),padding='valid',activation='relu',input_shape=(256,256,3)))  # 32 filters\n",
        "#model.add(BatchNormalization())  # added to reduce overfitting\n",
        "model.add(MaxPooling2D(pool_size=(2,2),strides=2,padding='valid'))\n",
        "\n",
        "model.add(Conv2D(64,kernel_size=(3,3),padding='valid',activation='relu'))\n",
        "#model.add(BatchNormalization())  # added to reduce overfitting\n",
        "model.add(MaxPooling2D(pool_size=(2,2),strides=2,padding='valid'))\n",
        "\n",
        "model.add(Conv2D(128,kernel_size=(3,3),padding='valid',activation='relu'))\n",
        "#model.add(BatchNormalization())  # added to reduce overfitting\n",
        "model.add(MaxPooling2D(pool_size=(2,2),strides=2,padding='valid'))\n",
        "\n",
        "model.add(Flatten())\n",
        "\n",
        "model.add(Dense(128,activation='relu')) #feature reduction\n",
        "#model.add(Dropout(0.1))  # added to reduce overfitting\n",
        "model.add(Dense(64,activation='relu'))\n",
        "#model.add(Dropout(0.1))  # added to reduce overfitting\n",
        "model.add(Dense(1,activation='sigmoid'))  #output layer"
      ]
    },
    {
      "cell_type": "code",
      "execution_count": null,
      "metadata": {
        "id": "SeBjyn0iWXgY"
      },
      "outputs": [],
      "source": [
        "from keras.optimizers import Adam\n",
        "model.compile(optimizer=Adam(learning_rate=0.001),loss='binary_crossentropy',metrics=['accuracy']) #binary_crossentropy - binary classification"
      ]
    },
    {
      "cell_type": "code",
      "execution_count": null,
      "metadata": {
        "colab": {
          "base_uri": "https://localhost:8080/"
        },
        "id": "lGbY2VpIWbTt",
        "outputId": "62cb307b-d184-451e-d9c8-249792d10452"
      },
      "outputs": [
        {
          "output_type": "stream",
          "name": "stdout",
          "text": [
            "Epoch 1/30\n",
            "252/252 [==============================] - 1035s 4s/step - loss: 0.5661 - accuracy: 0.7058 - val_loss: 0.5121 - val_accuracy: 0.7652\n",
            "Epoch 2/30\n",
            "252/252 [==============================] - 30s 119ms/step - loss: 0.4135 - accuracy: 0.8129 - val_loss: 0.4176 - val_accuracy: 0.8134\n",
            "Epoch 3/30\n",
            "252/252 [==============================] - 29s 117ms/step - loss: 0.3136 - accuracy: 0.8673 - val_loss: 0.3987 - val_accuracy: 0.8303\n",
            "Epoch 4/30\n",
            "252/252 [==============================] - 29s 116ms/step - loss: 0.2224 - accuracy: 0.9100 - val_loss: 0.3857 - val_accuracy: 0.8284\n",
            "Epoch 5/30\n",
            "252/252 [==============================] - 29s 114ms/step - loss: 0.1314 - accuracy: 0.9483 - val_loss: 0.4444 - val_accuracy: 0.8498\n",
            "Epoch 6/30\n",
            "252/252 [==============================] - 29s 115ms/step - loss: 0.0805 - accuracy: 0.9714 - val_loss: 0.5983 - val_accuracy: 0.8498\n",
            "Epoch 7/30\n",
            "252/252 [==============================] - 29s 114ms/step - loss: 0.0529 - accuracy: 0.9799 - val_loss: 0.6264 - val_accuracy: 0.8488\n",
            "Epoch 8/30\n",
            "252/252 [==============================] - 29s 115ms/step - loss: 0.0523 - accuracy: 0.9812 - val_loss: 0.6785 - val_accuracy: 0.8552\n",
            "Epoch 9/30\n",
            "252/252 [==============================] - 29s 117ms/step - loss: 0.0182 - accuracy: 0.9935 - val_loss: 0.7821 - val_accuracy: 0.8557\n",
            "Epoch 10/30\n",
            "252/252 [==============================] - 29s 115ms/step - loss: 0.0133 - accuracy: 0.9954 - val_loss: 0.8904 - val_accuracy: 0.8602\n",
            "Epoch 11/30\n",
            "252/252 [==============================] - 29s 117ms/step - loss: 0.0311 - accuracy: 0.9912 - val_loss: 0.7582 - val_accuracy: 0.8577\n",
            "Epoch 12/30\n",
            "252/252 [==============================] - 29s 117ms/step - loss: 0.0232 - accuracy: 0.9925 - val_loss: 0.9069 - val_accuracy: 0.8572\n",
            "Epoch 13/30\n",
            "252/252 [==============================] - 29s 116ms/step - loss: 0.0275 - accuracy: 0.9912 - val_loss: 0.7261 - val_accuracy: 0.8478\n",
            "Epoch 14/30\n",
            "252/252 [==============================] - 29s 114ms/step - loss: 0.0149 - accuracy: 0.9956 - val_loss: 0.9377 - val_accuracy: 0.8597\n",
            "Epoch 15/30\n",
            "252/252 [==============================] - 29s 114ms/step - loss: 0.0076 - accuracy: 0.9975 - val_loss: 0.9726 - val_accuracy: 0.8443\n",
            "Epoch 16/30\n",
            "252/252 [==============================] - 29s 115ms/step - loss: 0.0243 - accuracy: 0.9913 - val_loss: 1.1602 - val_accuracy: 0.8244\n",
            "Epoch 17/30\n",
            "252/252 [==============================] - 28s 112ms/step - loss: 0.0349 - accuracy: 0.9878 - val_loss: 0.9966 - val_accuracy: 0.8537\n",
            "Epoch 18/30\n",
            "252/252 [==============================] - 29s 116ms/step - loss: 0.0071 - accuracy: 0.9981 - val_loss: 0.9773 - val_accuracy: 0.8602\n",
            "Epoch 19/30\n",
            "252/252 [==============================] - 29s 115ms/step - loss: 5.6549e-04 - accuracy: 1.0000 - val_loss: 1.0644 - val_accuracy: 0.8627\n",
            "Epoch 20/30\n",
            "252/252 [==============================] - 30s 119ms/step - loss: 1.3659e-04 - accuracy: 1.0000 - val_loss: 1.1037 - val_accuracy: 0.8637\n",
            "Epoch 21/30\n",
            "252/252 [==============================] - 29s 115ms/step - loss: 8.0845e-05 - accuracy: 1.0000 - val_loss: 1.1344 - val_accuracy: 0.8637\n",
            "Epoch 22/30\n",
            "252/252 [==============================] - 28s 112ms/step - loss: 5.8159e-05 - accuracy: 1.0000 - val_loss: 1.1610 - val_accuracy: 0.8632\n",
            "Epoch 23/30\n",
            "252/252 [==============================] - 29s 116ms/step - loss: 4.3749e-05 - accuracy: 1.0000 - val_loss: 1.1879 - val_accuracy: 0.8642\n",
            "Epoch 24/30\n",
            "252/252 [==============================] - 29s 114ms/step - loss: 3.3769e-05 - accuracy: 1.0000 - val_loss: 1.2102 - val_accuracy: 0.8642\n",
            "Epoch 25/30\n",
            "252/252 [==============================] - 29s 116ms/step - loss: 2.6615e-05 - accuracy: 1.0000 - val_loss: 1.2325 - val_accuracy: 0.8647\n",
            "Epoch 26/30\n",
            "252/252 [==============================] - 29s 115ms/step - loss: 2.1041e-05 - accuracy: 1.0000 - val_loss: 1.2530 - val_accuracy: 0.8652\n",
            "Epoch 27/30\n",
            "252/252 [==============================] - 29s 116ms/step - loss: 1.6743e-05 - accuracy: 1.0000 - val_loss: 1.2744 - val_accuracy: 0.8657\n",
            "Epoch 28/30\n",
            "252/252 [==============================] - 30s 118ms/step - loss: 1.3626e-05 - accuracy: 1.0000 - val_loss: 1.2919 - val_accuracy: 0.8652\n",
            "Epoch 29/30\n",
            "252/252 [==============================] - 29s 114ms/step - loss: 1.1010e-05 - accuracy: 1.0000 - val_loss: 1.3084 - val_accuracy: 0.8642\n",
            "Epoch 30/30\n",
            "252/252 [==============================] - 29s 116ms/step - loss: 9.1084e-06 - accuracy: 1.0000 - val_loss: 1.3277 - val_accuracy: 0.8652\n"
          ]
        }
      ],
      "source": [
        "history = model.fit(train_data, epochs=30, validation_data=validation_data)"
      ]
    },
    {
      "cell_type": "code",
      "execution_count": null,
      "metadata": {
        "id": "g21dMlSOWKas",
        "colab": {
          "base_uri": "https://localhost:8080/",
          "height": 430
        },
        "outputId": "dac09e19-aac4-4ad8-c4c0-c0a3cc2707a6"
      },
      "outputs": [
        {
          "output_type": "display_data",
          "data": {
            "text/plain": [
              "<Figure size 640x480 with 1 Axes>"
            ],
            "image/png": "[encoded data removed]"
          },
          "metadata": {}
        }
      ],
      "source": [
        "import matplotlib.pyplot as plt\n",
        "\n",
        "plt.plot(history.history['accuracy'],color='red',label='train')\n",
        "plt.plot(history.history['val_accuracy'],color='blue',label='validation')\n",
        "plt.legend()\n",
        "plt.show()"
      ]
    },
    {
      "cell_type": "code",
      "execution_count": null,
      "metadata": {
        "id": "FYZ0VJp4esXl",
        "colab": {
          "base_uri": "https://localhost:8080/",
          "height": 430
        },
        "outputId": "4097a3e6-f0b7-4d77-8df2-72b3f4d25fe5"
      },
      "outputs": [
        {
          "output_type": "display_data",
          "data": {
            "text/plain": [
              "<Figure size 640x480 with 1 Axes>"
            ],
            "image/png": "[encoded data removed]"
          },
          "metadata": {}
        }
      ],
      "source": [
        "plt.plot(history.history['loss'],color='red',label='train')\n",
        "plt.plot(history.history['val_loss'],color='blue',label='validation')\n",
        "plt.legend()\n",
        "plt.show()"
      ]
    },
    {
      "cell_type": "code",
      "execution_count": null,
      "metadata": {
        "id": "tQj_RyrZWBEt",
        "colab": {
          "base_uri": "https://localhost:8080/"
        },
        "outputId": "7e156969-1175-4146-8686-cd2af660e036"
      },
      "outputs": [
        {
          "output_type": "stream",
          "name": "stdout",
          "text": [
            "Found 2020 images belonging to 2 classes.\n"
          ]
        }
      ],
      "source": [
        "test_datagen = ImageDataGenerator(rescale=1./255)\n",
        "test_data = test_datagen.flow_from_directory(\n",
        "    test_dir,\n",
        "    target_size=(256,256),\n",
        "    batch_size=32,\n",
        "    class_mode='binary'\n",
        ")"
      ]
    },
    {
      "cell_type": "code",
      "execution_count": null,
      "metadata": {
        "id": "glicW8_5vTqd",
        "colab": {
          "base_uri": "https://localhost:8080/"
        },
        "outputId": "5cd812da-dd4b-49b3-9760-309485789f91"
      },
      "outputs": [
        {
          "output_type": "stream",
          "name": "stdout",
          "text": [
            "64/64 [==============================] - 209s 3s/step\n",
            "[[9.9973387e-01]\n",
            " [5.4188331e-11]\n",
            " [4.0764342e-10]\n",
            " ...\n",
            " [1.0000000e+00]\n",
            " [9.1884513e-18]\n",
            " [1.0000000e+00]]\n"
          ]
        }
      ],
      "source": [
        "#predict the test data\n",
        "predictions = model.predict(test_data)\n",
        "print(predictions)"
      ]
    },
    {
      "cell_type": "code",
      "execution_count": null,
      "metadata": {
        "id": "r7XjnjcNyMbv",
        "colab": {
          "base_uri": "https://localhost:8080/"
        },
        "outputId": "93b2f3f6-8944-42eb-b136-868fc62910d6"
      },
      "outputs": [
        {
          "output_type": "execute_result",
          "data": {
            "text/plain": [
              "2020"
            ]
          },
          "metadata": {},
          "execution_count": 16
        }
      ],
      "source": [
        "len(predictions)"
      ]
    },
    {
      "cell_type": "code",
      "execution_count": null,
      "metadata": {
        "id": "oqqBXpuhyd6x",
        "colab": {
          "base_uri": "https://localhost:8080/"
        },
        "outputId": "684fdd99-d3d2-4ce1-c34d-42004d28b684"
      },
      "outputs": [
        {
          "output_type": "stream",
          "name": "stdout",
          "text": [
            "Confusion Matrix:\n",
            "[[508 512]\n",
            " [522 478]]\n",
            "Classification Report:\n",
            "              precision    recall  f1-score   support\n",
            "\n",
            "           0       0.49      0.50      0.50      1020\n",
            "           1       0.48      0.48      0.48      1000\n",
            "\n",
            "    accuracy                           0.49      2020\n",
            "   macro avg       0.49      0.49      0.49      2020\n",
            "weighted avg       0.49      0.49      0.49      2020\n",
            "\n"
          ]
        }
      ],
      "source": [
        "from sklearn.metrics import confusion_matrix, classification_report\n",
        "\n",
        "# Assuming you have ground truth labels (true_labels) and predicted labels (predictions)\n",
        "true_labels = test_data.classes\n",
        "predicted_labels = (predictions > 0.5).astype(int)  # Adjust the threshold as needed\n",
        "\n",
        "# Calculate confusion matrix\n",
        "cm = confusion_matrix(true_labels, predicted_labels)\n",
        "\n",
        "# Print confusion matrix\n",
        "print(\"Confusion Matrix:\")\n",
        "print(cm)\n",
        "\n",
        "# Print classification report\n",
        "print(\"Classification Report:\")\n",
        "print(classification_report(true_labels, predicted_labels))"
      ]
    }
  ],
  "metadata": {
    "accelerator": "GPU",
    "colab": {
      "provenance": [],
      "gpuType": "A100",
      "machine_shape": "hm",
      "include_colab_link": true
    },
    "kernelspec": {
      "display_name": "Python 3",
      "name": "python3"
    },
    "language_info": {
      "name": "python"
    }
  },
  "nbformat": 4,
  "nbformat_minor": 0
}